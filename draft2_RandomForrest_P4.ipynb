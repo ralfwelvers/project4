{
  "nbformat": 4,
  "nbformat_minor": 0,
  "metadata": {
    "colab": {
      "provenance": []
    },
    "kernelspec": {
      "name": "python3",
      "display_name": "Python 3"
    },
    "language_info": {
      "name": "python"
    }
  },
  "cells": [
    {
      "cell_type": "code",
      "source": [
        "import warnings\n",
        "import numpy as np\n",
        "import pandas as pd\n",
        "import matplotlib.pyplot as plt\n",
        "import seaborn as sns\n",
        "import missingno as msno\n",
        "from imblearn.over_sampling import SMOTE\n",
        "from sklearn.model_selection import train_test_split\n",
        "from sklearn.ensemble import RandomForestClassifier\n",
        "from sklearn.preprocessing import StandardScaler\n",
        "from sklearn.metrics import accuracy_score, precision_score, recall_score, f1_score, roc_auc_score, confusion_matrix, roc_curve\n",
        "\n",
        "# Ignore warnings\n",
        "warnings.filterwarnings('ignore')\n",
        "\n",
        "# Load data\n",
        "from google.colab import drive\n",
        "drive.mount('/content/drive')\n",
        "data = pd.read_csv(\"/content/drive/MyDrive/application_record.csv\", encoding='utf-8')\n",
        "record = pd.read_csv(\"/content/drive/MyDrive/credit_record.csv\", encoding='utf-8')\n",
        "\n",
        "# Data preprocessing\n",
        "data = data.drop_duplicates('ID', keep='last')\n",
        "data = data.drop('OCCUPATION_TYPE', axis=1)\n",
        "\n",
        "# Rename columns for clarity\n",
        "column_mapping = {\n",
        "    \"CODE_GENDER\": \"Gender\", \"FLAG_OWN_CAR\": \"Own_Car\", \"FLAG_OWN_REALTY\": \"Own_Realty\",\n",
        "    \"CNT_CHILDREN\": \"Children_Count\", \"AMT_INCOME_TOTAL\": \"Income\", \"NAME_EDUCATION_TYPE\": \"Education\",\n",
        "    \"NAME_FAMILY_STATUS\": \"Family_Status\", \"NAME_HOUSING_TYPE\": \"Housing_Type\", \"DAYS_BIRTH\": \"Birthday\",\n",
        "    \"DAYS_EMPLOYED\": \"Employment_Date\", \"FLAG_MOBIL\": \"Own_Mobile\", \"FLAG_WORK_PHONE\": \"Own_Work_Phone\",\n",
        "    \"FLAG_PHONE\": \"Own_Phone\", \"FLAG_EMAIL\": \"Own_Email\", \"CNT_FAM_MEMBERS\": \"Family_Member_Count\",\n",
        "    \"NAME_INCOME_TYPE\": \"Income_Type\"\n",
        "}\n",
        "data.rename(columns=column_mapping, inplace=True)"
      ],
      "metadata": {
        "colab": {
          "base_uri": "https://localhost:8080/"
        },
        "id": "KtzY-pksiKnC",
        "outputId": "b28a036c-22dd-4643-8f22-4cfe6dc8efc3"
      },
      "execution_count": 26,
      "outputs": [
        {
          "output_type": "stream",
          "name": "stdout",
          "text": [
            "Drive already mounted at /content/drive; to attempt to forcibly remount, call drive.mount(\"/content/drive\", force_remount=True).\n"
          ]
        }
      ]
    },
    {
      "cell_type": "code",
      "source": [
        "# Extract credit card open month information\n",
        "open_month = record.groupby([\"ID\"])[\"MONTHS_BALANCE\"].agg(min)\n",
        "open_month = open_month.rename(\"begin_month\")\n",
        "\n",
        "# Merging two datasets together\n",
        "customer_data = data.merge(open_month, how=\"left\", on=\"ID\")\n",
        "\n",
        "# Categorical Mapping mostly binary style of 1s and 0s\n",
        "categorical_mappings = {\n",
        "    \"Gender\": {\"F\": 0, \"M\": 1},\n",
        "    \"Own_Car\": {\"N\": 0, \"Y\": 1},\n",
        "    \"Own_Realty\": {\"N\": 0, \"Y\": 1},\n",
        "    \"Income_Type\": {\"Working\": 1, \"Commercial associate\": 1, \"State servant\": 1, \"Pensioner\": 0, \"Student\": 0},\n",
        "    \"Family_Status\": {\"Single / not married\": \"Single\", \"Separated\": \"Single\", \"Widow\": \"Single\", \"Civil marriage\": \"Married\", \"Married\": \"Married\"},\n",
        "    \"Housing_Type\": {'House / apartment': 'House / apartment', 'With parents': 'With parents', 'Municipal apartment': 'House / apartment',\n",
        "                    'Rented apartment': 'House / apartment', 'Office apartment': 'House / apartment', 'Co-op apartment': 'House / apartment'},\n",
        "    \"Education\": {\"Secondary / secondary special\": \"secondary\", \"Lower secondary\": \"secondary\", \"Higher education\": \"Higher education\", \"Incomplete higher\": \"Higher education\", \"Academic degree\": \"Academic degree\"}\n",
        "}\n",
        "for column, mapping in categorical_mappings.items():\n",
        "    customer_data[column] = customer_data[column].map(mapping)\n",
        "\n",
        "# Calculate additional features\n",
        "customer_data[\"Household_Size\"] = customer_data[\"Children_Count\"] + customer_data[\"Family_Status\"].apply(lambda x: 2 if x == \"Married\" else 1)\n",
        "customer_data[\"Age\"] = round((customer_data[\"Birthday\"] / 365) * -1)\n",
        "customer_data[\"Experience\"] = customer_data[\"Employment_Date\"] / 365\n",
        "customer_data[\"Experience\"] = customer_data[\"Experience\"].apply(lambda v: int(v * -1) if v < 0 else 0)\n",
        "\n",
        "# Drop unnecessary columns\n",
        "customer_data = customer_data.drop(columns=['Employment_Date', 'Birthday', 'Children_Count'])\n",
        "\n",
        "# \"One-hot encoding\" categorical columns, use for converting to binary/numerical data\n",
        "columns_to_encode = ['Income_Type', 'Education', 'Family_Status', 'Housing_Type']\n",
        "customer_data = pd.get_dummies(customer_data, columns=columns_to_encode)\n",
        "\n",
        "# Calculate z-scores for outlier identification\n",
        "def calculate_z_scores(df, cols):\n",
        "    for col in cols:\n",
        "        df[col + \"_z_score\"] = (df[col] - df[col].mean()) / df[col].std()\n",
        "    return df\n",
        "\n",
        "z_score_columns = [\"Income\", \"Experience\", \"Household_Size\"]\n",
        "customer_data = calculate_z_scores(df=customer_data, cols=z_score_columns)\n",
        "\n",
        "# Remove outliers\n",
        "outlier_filters = (customer_data[\"Household_Size_z_score\"].abs() <= 3.5) & \\\n",
        "                  (customer_data[\"Experience_z_score\"].abs() <= 3.5) & \\\n",
        "                  (customer_data[\"Income_z_score\"].abs() <= 3.5)\n",
        "customer_data = customer_data[outlier_filters]\n",
        "\n",
        "# Create DataFrame with credit info for analysis\n",
        "grouped = record.groupby('ID')\n",
        "pivot_tb = record.pivot(index='ID', columns='MONTHS_BALANCE', values='STATUS')\n",
        "pivot_tb['open_month'] = grouped['MONTHS_BALANCE'].min()\n",
        "pivot_tb['end_month'] = grouped['MONTHS_BALANCE'].max()\n",
        "pivot_tb['window'] = pivot_tb['end_month'] - pivot_tb['open_month'] + 1\n",
        "\n",
        "# track past dues and other payment history i.e. no_loan\n",
        "past_due_statuses = ['0', '1', '2', '3', '4', '5']\n",
        "for status in past_due_statuses:\n",
        "    pivot_tb[f'pastdue_{status}'] = pivot_tb[pivot_tb.iloc[:, 0:61] == status].count(axis=1)\n",
        "pivot_tb['no_loan'] = pivot_tb[pivot_tb.iloc[:, 0:61] == 'X'].count(axis=1)\n",
        "\n",
        "# Merge history analysis data with the customer data\n",
        "target = pivot_tb[['open_month', 'pastdue_0', 'pastdue_1', 'pastdue_2', 'pastdue_3', 'pastdue_4', 'pastdue_5', 'no_loan']]\n",
        "customer_apps = customer_data.merge(target, how='inner', on='ID')\n",
        "\n",
        "# Create a binary target variable, checks for if past due exists, set a binary value via astype\n",
        "customer_apps['target'] = (customer_apps['pastdue_2'] > 0) | (customer_apps['pastdue_3'] > 0) | (customer_apps['pastdue_4'] > 0) | (customer_apps['pastdue_5'] > 0)\n",
        "customer_apps['target'] = customer_apps['target'].astype(int)\n",
        "\n",
        "# Define selected features\n",
        "selected_features = [\"begin_month\", \"Income\", \"Experience\", \"Family_Status_Single\", \"Family_Member_Count\",\n",
        "                     \"Own_Car\", \"Age\", \"Gender\", \"Own_Realty\", \"Household_Size\", \"Education_Higher education\", \"Education_secondary\"]\n",
        "\n",
        "# Split data into training and testing sets\n",
        "X = customer_apps[selected_features]\n",
        "y = customer_apps[\"target\"]\n"
      ],
      "metadata": {
        "id": "bhhu0Pe1keks"
      },
      "execution_count": 31,
      "outputs": []
    },
    {
      "cell_type": "code",
      "source": [
        "X_train, X_test, y_train, y_test = train_test_split(X, y, random_state=100, test_size=0.3)\n",
        "\n",
        "# Fixing class imbalance using SMOTE (Synthetic Minority Over-sampling Technique)\n",
        "smote = SMOTE()\n",
        "X_balance, Y_balance = smote.fit_resample(X_train, y_train)\n",
        "X_balance = pd.DataFrame(X_balance, columns=X_train.columns)\n",
        "Y_balance = pd.DataFrame(Y_balance, columns=[\"target\"])\n",
        "\n",
        "# Standardize features\n",
        "scaler = StandardScaler()\n",
        "scaler.fit(X_balance)\n",
        "X_train = pd.DataFrame(scaler.transform(X_balance), columns=X_balance.columns)\n",
        "\n",
        "# Random Forest classifier\n",
        "rf_classifier = RandomForestClassifier(n_estimators=250, max_depth=12, min_samples_leaf=16)\n",
        "\n",
        "# Training the Random Forest model\n",
        "rf_classifier.fit(X_train, Y_balance)\n",
        "\n",
        "# Make predictions on the test data\n",
        "X_test = pd.DataFrame(scaler.transform(X_test), columns=X_test.columns)\n",
        "y_predict = rf_classifier.predict(X_test)\n",
        "\n",
        "# Print results of predictions\n",
        "print(\"Accuracy:\", accuracy_score(y_test, y_predict))\n",
        "print(\"Precision:\", precision_score(y_test, y_predict, average='weighted'))\n",
        "print(\"F1 Score:\", f1_score(y_test, y_predict, average='weighted'))"
      ],
      "metadata": {
        "colab": {
          "base_uri": "https://localhost:8080/"
        },
        "id": "tcrK7ualk5pl",
        "outputId": "31e3e3e8-1ec4-4c31-8c04-d2e04a1f00b4"
      },
      "execution_count": 29,
      "outputs": [
        {
          "output_type": "stream",
          "name": "stdout",
          "text": [
            "Accuracy: 0.9406320119670905\n",
            "Precision: 0.9717698208558625\n",
            "F1 Score: 0.9554062516108087\n"
          ]
        }
      ]
    }
  ]
}